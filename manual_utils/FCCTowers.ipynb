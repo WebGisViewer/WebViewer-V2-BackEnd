{
 "cells": [
  {
   "cell_type": "code",
   "id": "initial_id",
   "metadata": {
    "collapsed": true,
    "ExecuteTime": {
     "end_time": "2025-06-24T18:35:46.265512Z",
     "start_time": "2025-06-24T18:35:45.933823Z"
    }
   },
   "source": "import geopandas as gpd",
   "outputs": [],
   "execution_count": 1
  },
  {
   "metadata": {
    "ExecuteTime": {
     "end_time": "2025-06-24T18:38:24.898581Z",
     "start_time": "2025-06-24T18:38:24.855227Z"
    }
   },
   "cell_type": "code",
   "source": "from fiona import supported_drivers",
   "id": "2818a3d22f966f21",
   "outputs": [],
   "execution_count": 5
  },
  {
   "metadata": {
    "ExecuteTime": {
     "end_time": "2025-06-24T18:39:13.996339Z",
     "start_time": "2025-06-24T18:39:13.993557Z"
    }
   },
   "cell_type": "code",
   "source": [
    "supported_drivers['SQLite'] = 'rw'\n",
    "supported_drivers['sqlite'] = 'rw'\n"
   ],
   "id": "7164afb65b60aed0",
   "outputs": [],
   "execution_count": 8
  },
  {
   "metadata": {
    "ExecuteTime": {
     "end_time": "2025-06-24T18:39:14.593107Z",
     "start_time": "2025-06-24T18:39:14.549804Z"
    }
   },
   "cell_type": "code",
   "source": "file = gpd.read_file(\"SQLite:/Users/narekmeloyan/SW2020 Dropbox/SW2020/Workspaces/Narek_Meloyan/Data/Ohio/Ohio FCC Antenna Structures.sqlite\")",
   "id": "6374e9a13dc2d8fd",
   "outputs": [
    {
     "ename": "IndexError",
     "evalue": "index 0 is out of bounds for axis 0 with size 0",
     "output_type": "error",
     "traceback": [
      "\u001B[31m---------------------------------------------------------------------------\u001B[39m",
      "\u001B[31mIndexError\u001B[39m                                Traceback (most recent call last)",
      "\u001B[36mCell\u001B[39m\u001B[36m \u001B[39m\u001B[32mIn[9]\u001B[39m\u001B[32m, line 1\u001B[39m\n\u001B[32m----> \u001B[39m\u001B[32m1\u001B[39m file = \u001B[43mgpd\u001B[49m\u001B[43m.\u001B[49m\u001B[43mread_file\u001B[49m\u001B[43m(\u001B[49m\u001B[33;43m\"\u001B[39;49m\u001B[33;43mSQLite:/Users/narekmeloyan/SW2020 Dropbox/SW2020/Workspaces/Narek_Meloyan/Data/Ohio/Ohio FCC Antenna Structures.sqlite\u001B[39;49m\u001B[33;43m\"\u001B[39;49m\u001B[43m)\u001B[49m\n",
      "\u001B[36mFile \u001B[39m\u001B[32m~/PycharmProjects/WebViewer-V2-BackEnd/.venv/lib/python3.11/site-packages/geopandas/io/file.py:317\u001B[39m, in \u001B[36m_read_file\u001B[39m\u001B[34m(filename, bbox, mask, columns, rows, engine, **kwargs)\u001B[39m\n\u001B[32m    314\u001B[39m             filename = response.read()\n\u001B[32m    316\u001B[39m \u001B[38;5;28;01mif\u001B[39;00m engine == \u001B[33m\"\u001B[39m\u001B[33mpyogrio\u001B[39m\u001B[33m\"\u001B[39m:\n\u001B[32m--> \u001B[39m\u001B[32m317\u001B[39m     \u001B[38;5;28;01mreturn\u001B[39;00m \u001B[43m_read_file_pyogrio\u001B[49m\u001B[43m(\u001B[49m\n\u001B[32m    318\u001B[39m \u001B[43m        \u001B[49m\u001B[43mfilename\u001B[49m\u001B[43m,\u001B[49m\u001B[43m \u001B[49m\u001B[43mbbox\u001B[49m\u001B[43m=\u001B[49m\u001B[43mbbox\u001B[49m\u001B[43m,\u001B[49m\u001B[43m \u001B[49m\u001B[43mmask\u001B[49m\u001B[43m=\u001B[49m\u001B[43mmask\u001B[49m\u001B[43m,\u001B[49m\u001B[43m \u001B[49m\u001B[43mcolumns\u001B[49m\u001B[43m=\u001B[49m\u001B[43mcolumns\u001B[49m\u001B[43m,\u001B[49m\u001B[43m \u001B[49m\u001B[43mrows\u001B[49m\u001B[43m=\u001B[49m\u001B[43mrows\u001B[49m\u001B[43m,\u001B[49m\u001B[43m \u001B[49m\u001B[43m*\u001B[49m\u001B[43m*\u001B[49m\u001B[43mkwargs\u001B[49m\n\u001B[32m    319\u001B[39m \u001B[43m    \u001B[49m\u001B[43m)\u001B[49m\n\u001B[32m    321\u001B[39m \u001B[38;5;28;01melif\u001B[39;00m engine == \u001B[33m\"\u001B[39m\u001B[33mfiona\u001B[39m\u001B[33m\"\u001B[39m:\n\u001B[32m    322\u001B[39m     \u001B[38;5;28;01mif\u001B[39;00m pd.api.types.is_file_like(filename):\n",
      "\u001B[36mFile \u001B[39m\u001B[32m~/PycharmProjects/WebViewer-V2-BackEnd/.venv/lib/python3.11/site-packages/geopandas/io/file.py:577\u001B[39m, in \u001B[36m_read_file_pyogrio\u001B[39m\u001B[34m(path_or_bytes, bbox, mask, rows, **kwargs)\u001B[39m\n\u001B[32m    568\u001B[39m     warnings.warn(\n\u001B[32m    569\u001B[39m         \u001B[33m\"\u001B[39m\u001B[33mThe \u001B[39m\u001B[33m'\u001B[39m\u001B[33minclude_fields\u001B[39m\u001B[33m'\u001B[39m\u001B[33m and \u001B[39m\u001B[33m'\u001B[39m\u001B[33mignore_fields\u001B[39m\u001B[33m'\u001B[39m\u001B[33m keywords are deprecated, and \u001B[39m\u001B[33m\"\u001B[39m\n\u001B[32m    570\u001B[39m         \u001B[33m\"\u001B[39m\u001B[33mwill be removed in a future release. You can use the \u001B[39m\u001B[33m'\u001B[39m\u001B[33mcolumns\u001B[39m\u001B[33m'\u001B[39m\u001B[33m keyword \u001B[39m\u001B[33m\"\u001B[39m\n\u001B[32m   (...)\u001B[39m\u001B[32m    573\u001B[39m         stacklevel=\u001B[32m3\u001B[39m,\n\u001B[32m    574\u001B[39m     )\n\u001B[32m    575\u001B[39m     kwargs[\u001B[33m\"\u001B[39m\u001B[33mcolumns\u001B[39m\u001B[33m\"\u001B[39m] = kwargs.pop(\u001B[33m\"\u001B[39m\u001B[33minclude_fields\u001B[39m\u001B[33m\"\u001B[39m)\n\u001B[32m--> \u001B[39m\u001B[32m577\u001B[39m \u001B[38;5;28;01mreturn\u001B[39;00m \u001B[43mpyogrio\u001B[49m\u001B[43m.\u001B[49m\u001B[43mread_dataframe\u001B[49m\u001B[43m(\u001B[49m\u001B[43mpath_or_bytes\u001B[49m\u001B[43m,\u001B[49m\u001B[43m \u001B[49m\u001B[43mbbox\u001B[49m\u001B[43m=\u001B[49m\u001B[43mbbox\u001B[49m\u001B[43m,\u001B[49m\u001B[43m \u001B[49m\u001B[43m*\u001B[49m\u001B[43m*\u001B[49m\u001B[43mkwargs\u001B[49m\u001B[43m)\u001B[49m\n",
      "\u001B[36mFile \u001B[39m\u001B[32m~/PycharmProjects/WebViewer-V2-BackEnd/.venv/lib/python3.11/site-packages/pyogrio/geopandas.py:275\u001B[39m, in \u001B[36mread_dataframe\u001B[39m\u001B[34m(path_or_buffer, layer, encoding, columns, read_geometry, force_2d, skip_features, max_features, where, bbox, mask, fids, sql, sql_dialect, fid_as_index, use_arrow, on_invalid, arrow_to_pandas_kwargs, **kwargs)\u001B[39m\n\u001B[32m    270\u001B[39m \u001B[38;5;28;01mif\u001B[39;00m \u001B[38;5;129;01mnot\u001B[39;00m use_arrow:\n\u001B[32m    271\u001B[39m     \u001B[38;5;66;03m# For arrow, datetimes are read as is.\u001B[39;00m\n\u001B[32m    272\u001B[39m     \u001B[38;5;66;03m# For numpy IO, datetimes are read as string values to preserve timezone info\u001B[39;00m\n\u001B[32m    273\u001B[39m     \u001B[38;5;66;03m# as numpy does not directly support timezones.\u001B[39;00m\n\u001B[32m    274\u001B[39m     kwargs[\u001B[33m\"\u001B[39m\u001B[33mdatetime_as_string\u001B[39m\u001B[33m\"\u001B[39m] = \u001B[38;5;28;01mTrue\u001B[39;00m\n\u001B[32m--> \u001B[39m\u001B[32m275\u001B[39m result = \u001B[43mread_func\u001B[49m\u001B[43m(\u001B[49m\n\u001B[32m    276\u001B[39m \u001B[43m    \u001B[49m\u001B[43mpath_or_buffer\u001B[49m\u001B[43m,\u001B[49m\n\u001B[32m    277\u001B[39m \u001B[43m    \u001B[49m\u001B[43mlayer\u001B[49m\u001B[43m=\u001B[49m\u001B[43mlayer\u001B[49m\u001B[43m,\u001B[49m\n\u001B[32m    278\u001B[39m \u001B[43m    \u001B[49m\u001B[43mencoding\u001B[49m\u001B[43m=\u001B[49m\u001B[43mencoding\u001B[49m\u001B[43m,\u001B[49m\n\u001B[32m    279\u001B[39m \u001B[43m    \u001B[49m\u001B[43mcolumns\u001B[49m\u001B[43m=\u001B[49m\u001B[43mcolumns\u001B[49m\u001B[43m,\u001B[49m\n\u001B[32m    280\u001B[39m \u001B[43m    \u001B[49m\u001B[43mread_geometry\u001B[49m\u001B[43m=\u001B[49m\u001B[43mread_geometry\u001B[49m\u001B[43m,\u001B[49m\n\u001B[32m    281\u001B[39m \u001B[43m    \u001B[49m\u001B[43mforce_2d\u001B[49m\u001B[43m=\u001B[49m\u001B[43mgdal_force_2d\u001B[49m\u001B[43m,\u001B[49m\n\u001B[32m    282\u001B[39m \u001B[43m    \u001B[49m\u001B[43mskip_features\u001B[49m\u001B[43m=\u001B[49m\u001B[43mskip_features\u001B[49m\u001B[43m,\u001B[49m\n\u001B[32m    283\u001B[39m \u001B[43m    \u001B[49m\u001B[43mmax_features\u001B[49m\u001B[43m=\u001B[49m\u001B[43mmax_features\u001B[49m\u001B[43m,\u001B[49m\n\u001B[32m    284\u001B[39m \u001B[43m    \u001B[49m\u001B[43mwhere\u001B[49m\u001B[43m=\u001B[49m\u001B[43mwhere\u001B[49m\u001B[43m,\u001B[49m\n\u001B[32m    285\u001B[39m \u001B[43m    \u001B[49m\u001B[43mbbox\u001B[49m\u001B[43m=\u001B[49m\u001B[43mbbox\u001B[49m\u001B[43m,\u001B[49m\n\u001B[32m    286\u001B[39m \u001B[43m    \u001B[49m\u001B[43mmask\u001B[49m\u001B[43m=\u001B[49m\u001B[43mmask\u001B[49m\u001B[43m,\u001B[49m\n\u001B[32m    287\u001B[39m \u001B[43m    \u001B[49m\u001B[43mfids\u001B[49m\u001B[43m=\u001B[49m\u001B[43mfids\u001B[49m\u001B[43m,\u001B[49m\n\u001B[32m    288\u001B[39m \u001B[43m    \u001B[49m\u001B[43msql\u001B[49m\u001B[43m=\u001B[49m\u001B[43msql\u001B[49m\u001B[43m,\u001B[49m\n\u001B[32m    289\u001B[39m \u001B[43m    \u001B[49m\u001B[43msql_dialect\u001B[49m\u001B[43m=\u001B[49m\u001B[43msql_dialect\u001B[49m\u001B[43m,\u001B[49m\n\u001B[32m    290\u001B[39m \u001B[43m    \u001B[49m\u001B[43mreturn_fids\u001B[49m\u001B[43m=\u001B[49m\u001B[43mfid_as_index\u001B[49m\u001B[43m,\u001B[49m\n\u001B[32m    291\u001B[39m \u001B[43m    \u001B[49m\u001B[43m*\u001B[49m\u001B[43m*\u001B[49m\u001B[43mkwargs\u001B[49m\u001B[43m,\u001B[49m\n\u001B[32m    292\u001B[39m \u001B[43m\u001B[49m\u001B[43m)\u001B[49m\n\u001B[32m    294\u001B[39m \u001B[38;5;28;01mif\u001B[39;00m use_arrow:\n\u001B[32m    295\u001B[39m     \u001B[38;5;28;01mimport\u001B[39;00m\u001B[38;5;250m \u001B[39m\u001B[34;01mpyarrow\u001B[39;00m\u001B[38;5;250m \u001B[39m\u001B[38;5;28;01mas\u001B[39;00m\u001B[38;5;250m \u001B[39m\u001B[34;01mpa\u001B[39;00m\n",
      "\u001B[36mFile \u001B[39m\u001B[32m~/PycharmProjects/WebViewer-V2-BackEnd/.venv/lib/python3.11/site-packages/pyogrio/raw.py:198\u001B[39m, in \u001B[36mread\u001B[39m\u001B[34m(path_or_buffer, layer, encoding, columns, read_geometry, force_2d, skip_features, max_features, where, bbox, mask, fids, sql, sql_dialect, return_fids, datetime_as_string, **kwargs)\u001B[39m\n\u001B[32m     59\u001B[39m \u001B[38;5;250m\u001B[39m\u001B[33;03m\"\"\"Read OGR data source into numpy arrays.\u001B[39;00m\n\u001B[32m     60\u001B[39m \n\u001B[32m     61\u001B[39m \u001B[33;03mIMPORTANT: non-linear geometry types (e.g., MultiSurface) are converted\u001B[39;00m\n\u001B[32m   (...)\u001B[39m\u001B[32m    194\u001B[39m \n\u001B[32m    195\u001B[39m \u001B[33;03m\"\"\"\u001B[39;00m\n\u001B[32m    196\u001B[39m dataset_kwargs = _preprocess_options_key_value(kwargs) \u001B[38;5;28;01mif\u001B[39;00m kwargs \u001B[38;5;28;01melse\u001B[39;00m {}\n\u001B[32m--> \u001B[39m\u001B[32m198\u001B[39m \u001B[38;5;28;01mreturn\u001B[39;00m \u001B[43mogr_read\u001B[49m\u001B[43m(\u001B[49m\n\u001B[32m    199\u001B[39m \u001B[43m    \u001B[49m\u001B[43mget_vsi_path_or_buffer\u001B[49m\u001B[43m(\u001B[49m\u001B[43mpath_or_buffer\u001B[49m\u001B[43m)\u001B[49m\u001B[43m,\u001B[49m\n\u001B[32m    200\u001B[39m \u001B[43m    \u001B[49m\u001B[43mlayer\u001B[49m\u001B[43m=\u001B[49m\u001B[43mlayer\u001B[49m\u001B[43m,\u001B[49m\n\u001B[32m    201\u001B[39m \u001B[43m    \u001B[49m\u001B[43mencoding\u001B[49m\u001B[43m=\u001B[49m\u001B[43mencoding\u001B[49m\u001B[43m,\u001B[49m\n\u001B[32m    202\u001B[39m \u001B[43m    \u001B[49m\u001B[43mcolumns\u001B[49m\u001B[43m=\u001B[49m\u001B[43mcolumns\u001B[49m\u001B[43m,\u001B[49m\n\u001B[32m    203\u001B[39m \u001B[43m    \u001B[49m\u001B[43mread_geometry\u001B[49m\u001B[43m=\u001B[49m\u001B[43mread_geometry\u001B[49m\u001B[43m,\u001B[49m\n\u001B[32m    204\u001B[39m \u001B[43m    \u001B[49m\u001B[43mforce_2d\u001B[49m\u001B[43m=\u001B[49m\u001B[43mforce_2d\u001B[49m\u001B[43m,\u001B[49m\n\u001B[32m    205\u001B[39m \u001B[43m    \u001B[49m\u001B[43mskip_features\u001B[49m\u001B[43m=\u001B[49m\u001B[43mskip_features\u001B[49m\u001B[43m,\u001B[49m\n\u001B[32m    206\u001B[39m \u001B[43m    \u001B[49m\u001B[43mmax_features\u001B[49m\u001B[43m=\u001B[49m\u001B[43mmax_features\u001B[49m\u001B[43m \u001B[49m\u001B[38;5;129;43;01mor\u001B[39;49;00m\u001B[43m \u001B[49m\u001B[32;43m0\u001B[39;49m\u001B[43m,\u001B[49m\n\u001B[32m    207\u001B[39m \u001B[43m    \u001B[49m\u001B[43mwhere\u001B[49m\u001B[43m=\u001B[49m\u001B[43mwhere\u001B[49m\u001B[43m,\u001B[49m\n\u001B[32m    208\u001B[39m \u001B[43m    \u001B[49m\u001B[43mbbox\u001B[49m\u001B[43m=\u001B[49m\u001B[43mbbox\u001B[49m\u001B[43m,\u001B[49m\n\u001B[32m    209\u001B[39m \u001B[43m    \u001B[49m\u001B[43mmask\u001B[49m\u001B[43m=\u001B[49m\u001B[43m_mask_to_wkb\u001B[49m\u001B[43m(\u001B[49m\u001B[43mmask\u001B[49m\u001B[43m)\u001B[49m\u001B[43m,\u001B[49m\n\u001B[32m    210\u001B[39m \u001B[43m    \u001B[49m\u001B[43mfids\u001B[49m\u001B[43m=\u001B[49m\u001B[43mfids\u001B[49m\u001B[43m,\u001B[49m\n\u001B[32m    211\u001B[39m \u001B[43m    \u001B[49m\u001B[43msql\u001B[49m\u001B[43m=\u001B[49m\u001B[43msql\u001B[49m\u001B[43m,\u001B[49m\n\u001B[32m    212\u001B[39m \u001B[43m    \u001B[49m\u001B[43msql_dialect\u001B[49m\u001B[43m=\u001B[49m\u001B[43msql_dialect\u001B[49m\u001B[43m,\u001B[49m\n\u001B[32m    213\u001B[39m \u001B[43m    \u001B[49m\u001B[43mreturn_fids\u001B[49m\u001B[43m=\u001B[49m\u001B[43mreturn_fids\u001B[49m\u001B[43m,\u001B[49m\n\u001B[32m    214\u001B[39m \u001B[43m    \u001B[49m\u001B[43mdataset_kwargs\u001B[49m\u001B[43m=\u001B[49m\u001B[43mdataset_kwargs\u001B[49m\u001B[43m,\u001B[49m\n\u001B[32m    215\u001B[39m \u001B[43m    \u001B[49m\u001B[43mdatetime_as_string\u001B[49m\u001B[43m=\u001B[49m\u001B[43mdatetime_as_string\u001B[49m\u001B[43m,\u001B[49m\n\u001B[32m    216\u001B[39m \u001B[43m\u001B[49m\u001B[43m)\u001B[49m\n",
      "\u001B[36mFile \u001B[39m\u001B[32mpyogrio/_io.pyx:1297\u001B[39m, in \u001B[36mpyogrio._io.ogr_read\u001B[39m\u001B[34m()\u001B[39m\n",
      "\u001B[36mFile \u001B[39m\u001B[32mpyogrio/_io.pyx:1972\u001B[39m, in \u001B[36mpyogrio._io.get_default_layer\u001B[39m\u001B[34m()\u001B[39m\n",
      "\u001B[31mIndexError\u001B[39m: index 0 is out of bounds for axis 0 with size 0"
     ]
    }
   ],
   "execution_count": 9
  },
  {
   "metadata": {},
   "cell_type": "code",
   "outputs": [],
   "execution_count": null,
   "source": "",
   "id": "12cab3f5f20a0ac9"
  }
 ],
 "metadata": {
  "kernelspec": {
   "display_name": "Python 3",
   "language": "python",
   "name": "python3"
  },
  "language_info": {
   "codemirror_mode": {
    "name": "ipython",
    "version": 2
   },
   "file_extension": ".py",
   "mimetype": "text/x-python",
   "name": "python",
   "nbconvert_exporter": "python",
   "pygments_lexer": "ipython2",
   "version": "2.7.6"
  }
 },
 "nbformat": 4,
 "nbformat_minor": 5
}
