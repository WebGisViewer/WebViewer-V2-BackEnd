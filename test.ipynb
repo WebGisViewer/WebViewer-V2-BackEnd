{
 "cells": [
  {
   "cell_type": "code",
   "execution_count": 7,
   "id": "608e73f1",
   "metadata": {},
   "outputs": [
    {
     "name": "stdout",
     "output_type": "stream",
     "text": [
      "✅ Config file created at: new_Test_Project/polygon_layers_config.json\n"
     ]
    }
   ],
   "source": [
    "import os\n",
    "import json\n",
    "import random\n",
    "\n",
    "FOLDER_PATH = \"/Users/levon/SW2020 Dropbox/SW2020/Clients/ELink/AZ BEAD/20250606 AZ Maricopa Round 2/Results/Polygons\"\n",
    "OUTPUT_PATH = os.path.join(\"new_Test_Project\", \"polygon_layers_config.json\")\n",
    "\n",
    "def random_color():\n",
    "    return \"#{:06x}\".format(random.randint(0, 0xFFFFFF))\n",
    "\n",
    "files = [f for f in os.listdir(FOLDER_PATH) if f.endswith(\".sqlite\")]\n",
    "config = []\n",
    "\n",
    "for file in files:\n",
    "    layer_name = file.replace(\".sqlite\", \"\")\n",
    "    if \"split\" in layer_name:\n",
    "        config.append({\n",
    "            \"filename\": file,\n",
    "            \"layer_name\": layer_name,\n",
    "            \"layer_type_id\": 9,\n",
    "            \"style_id\": -1,\n",
    "            \"group\": \"Split Football Polygons\",\n",
    "            \"source_crs\": \"ESRI:102008\",\n",
    "            \"target_crs\": \"EPSG:4326\",\n",
    "            \"style\": {\n",
    "                \"color\": \"black\",\n",
    "                \"weight\": 1,\n",
    "                \"fillColor\": random_color(),\n",
    "                \"fillOpacity\": 1\n",
    "            },\n",
    "            \"columns_for_popup\": [],\n",
    "            \"display_order\" : 1\n",
    "        })\n",
    "    else:\n",
    "        config.append({\n",
    "            \"filename\": file,\n",
    "            \"layer_name\": layer_name,\n",
    "            \"layer_type_id\": 9,\n",
    "            \"style_id\": -1,\n",
    "            \"group\": \"Polygons\",\n",
    "            \"source_crs\": \"ESRI:102008\",\n",
    "            \"target_crs\": \"EPSG:4326\",\n",
    "            \"style\": {\n",
    "                \"color\": \"black\",\n",
    "                \"weight\": 1,\n",
    "                \"fillColor\": random_color(),\n",
    "                \"fillOpacity\": 1\n",
    "            },\n",
    "            \"columns_for_popup\": [],\n",
    "            \"display_order\" : 2\n",
    "        })\n",
    "\n",
    "with open(OUTPUT_PATH, \"w\") as f:\n",
    "    json.dump(config, f, indent=4)\n",
    "\n",
    "print(f\"✅ Config file created at: {OUTPUT_PATH}\")"
   ]
  },
  {
   "cell_type": "code",
   "execution_count": 2,
   "id": "45d11c1c",
   "metadata": {},
   "outputs": [
    {
     "name": "stderr",
     "output_type": "stream",
     "text": [
      "/opt/anaconda3/lib/python3.9/site-packages/pandas/core/computation/expressions.py:21: UserWarning: Pandas requires version '2.8.4' or newer of 'numexpr' (version '2.8.3' currently installed).\n",
      "  from pandas.core.computation.check import NUMEXPR_INSTALLED\n",
      "/opt/anaconda3/lib/python3.9/site-packages/pandas/core/arrays/masked.py:60: UserWarning: Pandas requires version '1.3.6' or newer of 'bottleneck' (version '1.3.5' currently installed).\n",
      "  from pandas.core import (\n"
     ]
    }
   ],
   "source": [
    "import geopandas as gpd\n",
    "\n",
    "f = gpd.read_file(\"/Users/levon/Desktop/WebGIS/WebViewer-V2-BackEnd/new_Test_Project/Polygon_split_football10.sqlite\")"
   ]
  },
  {
   "cell_type": "code",
   "execution_count": 3,
   "id": "aa7722aa",
   "metadata": {},
   "outputs": [
    {
     "data": {
      "text/html": [
       "<div>\n",
       "<style scoped>\n",
       "    .dataframe tbody tr th:only-of-type {\n",
       "        vertical-align: middle;\n",
       "    }\n",
       "\n",
       "    .dataframe tbody tr th {\n",
       "        vertical-align: top;\n",
       "    }\n",
       "\n",
       "    .dataframe thead th {\n",
       "        text-align: right;\n",
       "    }\n",
       "</style>\n",
       "<table border=\"1\" class=\"dataframe\">\n",
       "  <thead>\n",
       "    <tr style=\"text-align: right;\">\n",
       "      <th></th>\n",
       "      <th>geometry</th>\n",
       "    </tr>\n",
       "  </thead>\n",
       "  <tbody>\n",
       "    <tr>\n",
       "      <th>0</th>\n",
       "      <td>POLYGON ((-1397926.482 -624280.545, -1397977.9...</td>\n",
       "    </tr>\n",
       "  </tbody>\n",
       "</table>\n",
       "</div>"
      ],
      "text/plain": [
       "                                            geometry\n",
       "0  POLYGON ((-1397926.482 -624280.545, -1397977.9..."
      ]
     },
     "execution_count": 3,
     "metadata": {},
     "output_type": "execute_result"
    }
   ],
   "source": [
    "f"
   ]
  },
  {
   "cell_type": "code",
   "execution_count": null,
   "id": "84361dfe",
   "metadata": {},
   "outputs": [],
   "source": []
  }
 ],
 "metadata": {
  "kernelspec": {
   "display_name": "base",
   "language": "python",
   "name": "python3"
  },
  "language_info": {
   "codemirror_mode": {
    "name": "ipython",
    "version": 3
   },
   "file_extension": ".py",
   "mimetype": "text/x-python",
   "name": "python",
   "nbconvert_exporter": "python",
   "pygments_lexer": "ipython3",
   "version": "3.9.13"
  }
 },
 "nbformat": 4,
 "nbformat_minor": 5
}
